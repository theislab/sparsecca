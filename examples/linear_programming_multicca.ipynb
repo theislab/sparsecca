{
 "cells": [
  {
   "cell_type": "markdown",
   "metadata": {},
   "source": [
    "## Example: using Linear Programming to solve for 3 latent factors `w`"
   ]
  },
  {
   "cell_type": "markdown",
   "metadata": {},
   "source": [
    "Please note that the last part of this example, \"Permutation invariance in linear programming vs. MultiCCA in R and `pmd`\" requires that `inpt3` be exactly as printed."
   ]
  },
  {
   "cell_type": "code",
   "execution_count": 34,
   "metadata": {},
   "outputs": [],
   "source": [
    "import pandas as pd\n",
    "import numpy as np\n",
    "\n",
    "from sparsecca import lp_pmd"
   ]
  },
  {
   "cell_type": "code",
   "execution_count": 35,
   "metadata": {},
   "outputs": [],
   "source": [
    "# example inputs\n",
    "inpt1 = pd.read_csv(\"../tests/data/multicca1.csv\", sep=\",\", index_col=0).values\n",
    "inpt2 = pd.read_csv(\"../tests/data/multicca2.csv\", sep=\",\", index_col=0).values[:, -5:]\n",
    "inpt3 = np.random.normal(size=inpt2.shape)\n",
    "\n",
    "penalties = [1.5, 1.5, 1.5]"
   ]
  },
  {
   "cell_type": "code",
   "execution_count": 36,
   "metadata": {},
   "outputs": [],
   "source": [
    "weights, svd_init = lp_pmd(\n",
    "    datasets=[inpt1, inpt2], # match feature dimension for now\n",
    "    penalties=penalties[:2],\n",
    "    K=3,\n",
    "    standardize=True,\n",
    "    mimic_R=True\n",
    ")"
   ]
  },
  {
   "attachments": {},
   "cell_type": "markdown",
   "metadata": {},
   "source": [
    "## Correlation between IO results and LP results"
   ]
  },
  {
   "cell_type": "code",
   "execution_count": 37,
   "metadata": {},
   "outputs": [],
   "source": [
    "from scipy.stats import spearmanr\n",
    "from sparsecca import multicca_pmd"
   ]
  },
  {
   "cell_type": "markdown",
   "metadata": {},
   "source": [
    "### high correlation between pmd and lp when `n=2`\n",
    "\n",
    "Let `n` equal the number of datasets."
   ]
  },
  {
   "cell_type": "code",
   "execution_count": 38,
   "metadata": {},
   "outputs": [],
   "source": [
    "datasets = [inpt1, inpt2]\n",
    "ws_lp, _ = lp_pmd(datasets, penalties[:2])\n",
    "ws_io, _ = multicca_pmd(datasets, penalties[:2])"
   ]
  },
  {
   "cell_type": "code",
   "execution_count": 39,
   "metadata": {},
   "outputs": [
    {
     "name": "stdout",
     "output_type": "stream",
     "text": [
      "SignificanceResult(statistic=0.9746794344808964, pvalue=0.004818230468198537)\n",
      "SignificanceResult(statistic=0.8999999999999998, pvalue=0.03738607346849874)\n"
     ]
    }
   ],
   "source": [
    "print(spearmanr(ws_lp[0], ws_io[0]))\n",
    "print(spearmanr(ws_lp[1], ws_io[1]))"
   ]
  },
  {
   "cell_type": "markdown",
   "metadata": {},
   "source": [
    "Note that this is the same as taking the first latent factor when K=3, as per the implementation in Witten 2009."
   ]
  },
  {
   "cell_type": "code",
   "execution_count": 40,
   "metadata": {},
   "outputs": [
    {
     "name": "stdout",
     "output_type": "stream",
     "text": [
      "SignificanceResult(statistic=0.9746794344808964, pvalue=0.004818230468198537)\n",
      "SignificanceResult(statistic=0.8999999999999998, pvalue=0.03738607346849874)\n"
     ]
    }
   ],
   "source": [
    "print(spearmanr(weights[0].T[0], ws_io[0]))\n",
    "print(spearmanr(weights[1].T[0], ws_io[1]))"
   ]
  },
  {
   "cell_type": "markdown",
   "metadata": {},
   "source": [
    "### arbitrarily lower correlation when `n=3`"
   ]
  },
  {
   "cell_type": "markdown",
   "metadata": {},
   "source": [
    "Compare when `n=3`. Note that this is subject to the same warning as in the bottom of the notebook."
   ]
  },
  {
   "cell_type": "code",
   "execution_count": 41,
   "metadata": {},
   "outputs": [],
   "source": [
    "datasets = [inpt1, inpt2, inpt3]\n",
    "ws_lp, _ = lp_pmd(datasets, penalties)\n",
    "ws_io, _ = multicca_pmd(datasets, penalties)"
   ]
  },
  {
   "cell_type": "code",
   "execution_count": 42,
   "metadata": {},
   "outputs": [
    {
     "name": "stdout",
     "output_type": "stream",
     "text": [
      "SignificanceResult(statistic=0.20519567041703082, pvalue=0.7405819415910722)\n",
      "SignificanceResult(statistic=-0.8999999999999998, pvalue=0.03738607346849874)\n",
      "SignificanceResult(statistic=0.09999999999999999, pvalue=0.8728885715695383)\n"
     ]
    }
   ],
   "source": [
    "print(spearmanr(ws_lp[0], ws_io[0]))\n",
    "print(spearmanr(ws_lp[1], ws_io[1]))\n",
    "print(spearmanr(ws_lp[2], ws_io[2]))"
   ]
  },
  {
   "cell_type": "markdown",
   "metadata": {},
   "source": [
    "#### Optimization of the objective function"
   ]
  },
  {
   "cell_type": "markdown",
   "metadata": {},
   "source": [
    "Size of the objective function, which was maximized:"
   ]
  },
  {
   "cell_type": "code",
   "execution_count": 43,
   "metadata": {},
   "outputs": [
    {
     "name": "stdout",
     "output_type": "stream",
     "text": [
      "1st pair: [[119.0135171]]\n",
      "2nd pair: [[34.50213156]]\n",
      "3rd pair: [[30.66377104]]\n",
      "sum [[184.1794197]]\n"
     ]
    }
   ],
   "source": [
    "print('1st pair:', ws_lp[0].T @ inpt1.T @ inpt2 @ ws_lp[1])\n",
    "print('2nd pair:', ws_lp[1].T @ inpt2.T @ inpt3 @ ws_lp[2])\n",
    "print('3rd pair:', ws_lp[2].T @ inpt3.T @ inpt1 @ ws_lp[0])\n",
    "print('sum', ws_lp[0].T @ inpt1.T @ inpt2 @ ws_lp[1] + ws_lp[1].T @ inpt2.T @ inpt3 @ ws_lp[2] + ws_lp[2].T @ inpt3.T @ inpt1 @ ws_lp[0])"
   ]
  },
  {
   "cell_type": "code",
   "execution_count": 44,
   "metadata": {},
   "outputs": [
    {
     "name": "stdout",
     "output_type": "stream",
     "text": [
      "1st pair: [[56.9713026]]\n",
      "2nd pair: [[18.63386997]]\n",
      "3rd pair: [[29.98425782]]\n",
      "sum [[105.58943039]]\n"
     ]
    }
   ],
   "source": [
    "print('1st pair:', ws_io[0].T @ inpt1.T @ inpt2 @ ws_io[1])\n",
    "print('2nd pair:', ws_io[1].T @ inpt2.T @ inpt3 @ ws_io[2])\n",
    "print('3rd pair:', ws_io[2].T @ inpt3.T @ inpt1 @ ws_io[0])\n",
    "print('sum', ws_io[0].T @ inpt1.T @ inpt2 @ ws_io[1] + ws_io[1].T @ inpt2.T @ inpt3 @ ws_io[2] + ws_io[2].T @ inpt3.T @ inpt1 @ ws_io[0])"
   ]
  },
  {
   "cell_type": "markdown",
   "metadata": {},
   "source": [
    "Neither linear programming nor manual convergence consistently produces a better optimization of the objective function in this small test case."
   ]
  },
  {
   "attachments": {},
   "cell_type": "markdown",
   "metadata": {},
   "source": [
    "L2 norm of the latent factors."
   ]
  },
  {
   "cell_type": "code",
   "execution_count": 45,
   "metadata": {},
   "outputs": [
    {
     "data": {
      "text/plain": [
       "1.73205081608457"
      ]
     },
     "execution_count": 45,
     "metadata": {},
     "output_type": "execute_result"
    }
   ],
   "source": [
    "np.linalg.norm(ws_lp)"
   ]
  },
  {
   "cell_type": "code",
   "execution_count": 46,
   "metadata": {
    "scrolled": true
   },
   "outputs": [
    {
     "data": {
      "text/plain": [
       "1.7320508075688772"
      ]
     },
     "execution_count": 46,
     "metadata": {},
     "output_type": "execute_result"
    }
   ],
   "source": [
    "np.linalg.norm(ws_io)"
   ]
  },
  {
   "cell_type": "markdown",
   "metadata": {},
   "source": [
    "## Permutation invariance in linear programming vs. MultiCCA in R and `pmd`"
   ]
  },
  {
   "cell_type": "code",
   "execution_count": 47,
   "metadata": {},
   "outputs": [],
   "source": [
    "def test_weights(weights_a, weights_b, perm_b: list[int], dec=5):\n",
    "    \"\"\"Tests whether `weights_a` and `weights_b` are the same given the permutation order of b.\n",
    "\n",
    "    Parameters:\n",
    "        weights_a: output of lp_pmd \n",
    "        weights_b: output of lp_pmd permuted Xn\n",
    "                   -> weights are of type np.ndarray in shape (N, f, K)\n",
    "                    - N: len(Xn) datasets\n",
    "                    - f: amount of features\n",
    "                    - K: amount of MCPs\n",
    "        perm_b:    order of the datasets used to generate a, in b\n",
    "        dec:       decimals to which weights should be rounded to account for numerical tolerance\n",
    "\n",
    "    Returns:\n",
    "        boolean: True if rounded weights are the same, else False\n",
    "    \"\"\"\n",
    "    \n",
    "    weights_a_rounded = np.array(weights_a).round(decimals=dec)\n",
    "    weights_b_rounded = np.array(weights_b).round(decimals=dec)\n",
    "    \n",
    "    weights_b_ordered = []\n",
    "    for o in perm_b:\n",
    "        weights_b_ordered.append(weights_b_rounded[o])\n",
    "        \n",
    "    return all(x==True for x in (weights_a_rounded==weights_b_ordered).flatten())"
   ]
  },
  {
   "cell_type": "code",
   "execution_count": 48,
   "metadata": {},
   "outputs": [],
   "source": [
    "datasets = [inpt1, inpt2, inpt3]\n",
    "# original dataset with permutation 1, 2, 0\n",
    "datasets_perm = [inpt3, inpt1, inpt2]"
   ]
  },
  {
   "attachments": {},
   "cell_type": "markdown",
   "metadata": {},
   "source": [
    "### Linear Programming"
   ]
  },
  {
   "cell_type": "code",
   "execution_count": 49,
   "metadata": {
    "scrolled": true
   },
   "outputs": [],
   "source": [
    "ws_lp, _ = lp_pmd(datasets, [0.4, 0.0, 0.4])\n",
    "ws_lp_perm, _ = lp_pmd(datasets_perm, [0.4, 0.0, 0.4])"
   ]
  },
  {
   "cell_type": "code",
   "execution_count": 50,
   "metadata": {},
   "outputs": [
    {
     "data": {
      "text/plain": [
       "True"
      ]
     },
     "execution_count": 50,
     "metadata": {},
     "output_type": "execute_result"
    }
   ],
   "source": [
    "test_weights(ws_lp, ws_lp_perm, [1,2,0], dec=5)"
   ]
  },
  {
   "cell_type": "markdown",
   "metadata": {},
   "source": [
    "As we can see, the weights are the same with merely the order permuted as is appropriate."
   ]
  },
  {
   "attachments": {},
   "cell_type": "markdown",
   "metadata": {},
   "source": [
    "### Iterative Optimization"
   ]
  },
  {
   "cell_type": "code",
   "execution_count": 51,
   "metadata": {},
   "outputs": [],
   "source": [
    "ws_io, _ = multicca_pmd(datasets, penalties)\n",
    "ws_io_perm, _ = multicca_pmd(datasets_perm, penalties)"
   ]
  },
  {
   "cell_type": "markdown",
   "metadata": {},
   "source": [
    "Test with decimal tolerance 5."
   ]
  },
  {
   "cell_type": "code",
   "execution_count": 52,
   "metadata": {},
   "outputs": [
    {
     "data": {
      "text/plain": [
       "False"
      ]
     },
     "execution_count": 52,
     "metadata": {},
     "output_type": "execute_result"
    }
   ],
   "source": [
    "test_weights(np.array(ws_io), np.array(ws_io_perm), [1,2,0])"
   ]
  },
  {
   "attachments": {},
   "cell_type": "markdown",
   "metadata": {},
   "source": [
    "Test with decimal tolerance 2."
   ]
  },
  {
   "cell_type": "code",
   "execution_count": 53,
   "metadata": {},
   "outputs": [
    {
     "data": {
      "text/plain": [
       "False"
      ]
     },
     "execution_count": 53,
     "metadata": {},
     "output_type": "execute_result"
    }
   ],
   "source": [
    "test_weights(np.array(ws_io), np.array(ws_io_perm), [1,2,0], dec=2)"
   ]
  },
  {
   "cell_type": "markdown",
   "metadata": {},
   "source": [
    "**Note**: linear programming will always solve for the same objective function regardless of the order of the inputs, but the custom PMD implementation in `multicca_pmd` will not. Depending on the dataset, the solution may converge similarly regardless of order (with only a difference in sign), or the solution may converge to a completely different local minima given a different order."
   ]
  }
 ],
 "metadata": {
  "kernelspec": {
   "display_name": "Python 3",
   "language": "python",
   "name": "python3"
  },
  "language_info": {
   "codemirror_mode": {
    "name": "ipython",
    "version": 3
   },
   "file_extension": ".py",
   "mimetype": "text/x-python",
   "name": "python",
   "nbconvert_exporter": "python",
   "pygments_lexer": "ipython3",
   "version": "3.10.9"
  }
 },
 "nbformat": 4,
 "nbformat_minor": 2
}
