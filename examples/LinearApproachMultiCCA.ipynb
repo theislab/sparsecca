{
 "cells": [
  {
   "attachments": {},
   "cell_type": "markdown",
   "id": "ce8a32ac",
   "metadata": {},
   "source": [
    "# Linear Programming to solve for best weights"
   ]
  },
  {
   "attachments": {},
   "cell_type": "markdown",
   "id": "09728b07",
   "metadata": {},
   "source": [
    "## To use our linear programing implementation, use:"
   ]
  },
  {
   "cell_type": "code",
   "execution_count": 2,
   "id": "67f210fb",
   "metadata": {},
   "outputs": [],
   "source": [
    "from sparsecca._multicca_pmd import lp_pmd"
   ]
  },
  {
   "cell_type": "code",
   "execution_count": 3,
   "id": "39fa26ba",
   "metadata": {},
   "outputs": [],
   "source": [
    "import pandas as pd\n",
    "import numpy as np\n",
    "import pyomo.environ as pyo\n",
    "from scipy.linalg import svd\n",
    "from collections import defaultdict\n"
   ]
  },
  {
   "cell_type": "code",
   "execution_count": 4,
   "id": "b89adfda",
   "metadata": {},
   "outputs": [],
   "source": [
    "# example input\n",
    "mcca1 = pd.read_csv(\"../data/multicca1.csv\", sep=\",\")\n",
    "mcca2 = pd.read_csv(\"../data/multicca2.csv\", sep=\",\")"
   ]
  },
  {
   "cell_type": "code",
   "execution_count": 5,
   "id": "d3763ca6",
   "metadata": {},
   "outputs": [
    {
     "data": {
      "text/html": [
       "<div>\n",
       "<style scoped>\n",
       "    .dataframe tbody tr th:only-of-type {\n",
       "        vertical-align: middle;\n",
       "    }\n",
       "\n",
       "    .dataframe tbody tr th {\n",
       "        vertical-align: top;\n",
       "    }\n",
       "\n",
       "    .dataframe thead th {\n",
       "        text-align: right;\n",
       "    }\n",
       "</style>\n",
       "<table border=\"1\" class=\"dataframe\">\n",
       "  <thead>\n",
       "    <tr style=\"text-align: right;\">\n",
       "      <th></th>\n",
       "      <th>Unnamed: 0</th>\n",
       "      <th>PC_1</th>\n",
       "      <th>PC_2</th>\n",
       "      <th>PC_3</th>\n",
       "      <th>PC_4</th>\n",
       "      <th>PC_5</th>\n",
       "    </tr>\n",
       "  </thead>\n",
       "  <tbody>\n",
       "    <tr>\n",
       "      <th>0</th>\n",
       "      <td>AAACCGTGCTTCCG</td>\n",
       "      <td>-0.334611</td>\n",
       "      <td>-0.973064</td>\n",
       "      <td>-0.075584</td>\n",
       "      <td>-0.153610</td>\n",
       "      <td>-0.851994</td>\n",
       "    </tr>\n",
       "    <tr>\n",
       "      <th>1</th>\n",
       "      <td>AAACGCTGTTTCTG</td>\n",
       "      <td>5.558206</td>\n",
       "      <td>-3.939912</td>\n",
       "      <td>-6.719958</td>\n",
       "      <td>5.287234</td>\n",
       "      <td>-0.592665</td>\n",
       "    </tr>\n",
       "    <tr>\n",
       "      <th>2</th>\n",
       "      <td>AAAGAGACGCGAGA</td>\n",
       "      <td>-1.413016</td>\n",
       "      <td>1.226474</td>\n",
       "      <td>2.840675</td>\n",
       "      <td>0.558084</td>\n",
       "      <td>4.779749</td>\n",
       "    </tr>\n",
       "    <tr>\n",
       "      <th>3</th>\n",
       "      <td>AAAGCAGATATCGG</td>\n",
       "      <td>-6.217906</td>\n",
       "      <td>-0.855824</td>\n",
       "      <td>4.287036</td>\n",
       "      <td>-3.522270</td>\n",
       "      <td>2.558830</td>\n",
       "    </tr>\n",
       "    <tr>\n",
       "      <th>4</th>\n",
       "      <td>AAAGTTTGTAGCGT</td>\n",
       "      <td>5.138953</td>\n",
       "      <td>1.219816</td>\n",
       "      <td>-0.190048</td>\n",
       "      <td>-0.195437</td>\n",
       "      <td>1.369196</td>\n",
       "    </tr>\n",
       "    <tr>\n",
       "      <th>5</th>\n",
       "      <td>AAATCAACCCTATT</td>\n",
       "      <td>-8.643385</td>\n",
       "      <td>-1.846813</td>\n",
       "      <td>-0.738421</td>\n",
       "      <td>5.892154</td>\n",
       "      <td>-7.573796</td>\n",
       "    </tr>\n",
       "    <tr>\n",
       "      <th>6</th>\n",
       "      <td>AAATCATGACCACA</td>\n",
       "      <td>-9.683405</td>\n",
       "      <td>-6.973077</td>\n",
       "      <td>-6.825142</td>\n",
       "      <td>5.183110</td>\n",
       "      <td>0.245244</td>\n",
       "    </tr>\n",
       "    <tr>\n",
       "      <th>7</th>\n",
       "      <td>AAATGTTGAACGAA</td>\n",
       "      <td>1.918918</td>\n",
       "      <td>1.183611</td>\n",
       "      <td>2.569566</td>\n",
       "      <td>-2.589635</td>\n",
       "      <td>1.729954</td>\n",
       "    </tr>\n",
       "    <tr>\n",
       "      <th>8</th>\n",
       "      <td>AAATGTTGTGGCAT</td>\n",
       "      <td>-2.764088</td>\n",
       "      <td>-0.959742</td>\n",
       "      <td>1.838465</td>\n",
       "      <td>-2.350117</td>\n",
       "      <td>2.576929</td>\n",
       "    </tr>\n",
       "    <tr>\n",
       "      <th>9</th>\n",
       "      <td>AAATTCGAATCACG</td>\n",
       "      <td>6.243531</td>\n",
       "      <td>1.419469</td>\n",
       "      <td>1.213018</td>\n",
       "      <td>1.077085</td>\n",
       "      <td>-1.268777</td>\n",
       "    </tr>\n",
       "    <tr>\n",
       "      <th>10</th>\n",
       "      <td>AAATTCGAGCTGAT</td>\n",
       "      <td>-2.452379</td>\n",
       "      <td>-4.123004</td>\n",
       "      <td>-0.437019</td>\n",
       "      <td>1.104583</td>\n",
       "      <td>2.751235</td>\n",
       "    </tr>\n",
       "    <tr>\n",
       "      <th>11</th>\n",
       "      <td>AACACGTGGAACCT</td>\n",
       "      <td>3.127348</td>\n",
       "      <td>-0.942296</td>\n",
       "      <td>-0.225509</td>\n",
       "      <td>-1.575584</td>\n",
       "      <td>0.555177</td>\n",
       "    </tr>\n",
       "    <tr>\n",
       "      <th>12</th>\n",
       "      <td>AACACGTGTACGAC</td>\n",
       "      <td>-6.924004</td>\n",
       "      <td>-5.157157</td>\n",
       "      <td>-4.638076</td>\n",
       "      <td>1.921143</td>\n",
       "      <td>2.254966</td>\n",
       "    </tr>\n",
       "    <tr>\n",
       "      <th>13</th>\n",
       "      <td>AACAGCACAAGAGT</td>\n",
       "      <td>11.119974</td>\n",
       "      <td>-1.213287</td>\n",
       "      <td>-3.776990</td>\n",
       "      <td>3.907116</td>\n",
       "      <td>0.245200</td>\n",
       "    </tr>\n",
       "    <tr>\n",
       "      <th>14</th>\n",
       "      <td>AACATTGATGGGAG</td>\n",
       "      <td>-7.927472</td>\n",
       "      <td>-4.386244</td>\n",
       "      <td>-0.003822</td>\n",
       "      <td>-0.137707</td>\n",
       "      <td>1.474358</td>\n",
       "    </tr>\n",
       "    <tr>\n",
       "      <th>15</th>\n",
       "      <td>AACCAGTGATACCG</td>\n",
       "      <td>-7.233583</td>\n",
       "      <td>-5.835033</td>\n",
       "      <td>-0.527144</td>\n",
       "      <td>0.801080</td>\n",
       "      <td>-1.398150</td>\n",
       "    </tr>\n",
       "    <tr>\n",
       "      <th>16</th>\n",
       "      <td>AACCGATGTTCTAC</td>\n",
       "      <td>3.953711</td>\n",
       "      <td>2.220010</td>\n",
       "      <td>1.448344</td>\n",
       "      <td>-1.939564</td>\n",
       "      <td>0.146375</td>\n",
       "    </tr>\n",
       "    <tr>\n",
       "      <th>17</th>\n",
       "      <td>AACCGCCTCTACGA</td>\n",
       "      <td>-3.932309</td>\n",
       "      <td>0.691367</td>\n",
       "      <td>3.376944</td>\n",
       "      <td>-2.873753</td>\n",
       "      <td>5.348812</td>\n",
       "    </tr>\n",
       "    <tr>\n",
       "      <th>18</th>\n",
       "      <td>AACCTACTGTGAGG</td>\n",
       "      <td>-9.359974</td>\n",
       "      <td>2.131520</td>\n",
       "      <td>1.847297</td>\n",
       "      <td>-8.509225</td>\n",
       "      <td>4.082307</td>\n",
       "    </tr>\n",
       "    <tr>\n",
       "      <th>19</th>\n",
       "      <td>AACCTTACTAACGC</td>\n",
       "      <td>-0.793980</td>\n",
       "      <td>-5.376168</td>\n",
       "      <td>-3.385078</td>\n",
       "      <td>2.360172</td>\n",
       "      <td>-0.908210</td>\n",
       "    </tr>\n",
       "    <tr>\n",
       "      <th>20</th>\n",
       "      <td>AACCTTTGTACGCA</td>\n",
       "      <td>-9.821642</td>\n",
       "      <td>-3.390442</td>\n",
       "      <td>-0.741098</td>\n",
       "      <td>1.260087</td>\n",
       "      <td>1.531868</td>\n",
       "    </tr>\n",
       "    <tr>\n",
       "      <th>21</th>\n",
       "      <td>AACTCACTCAAGCT</td>\n",
       "      <td>1.677040</td>\n",
       "      <td>0.322130</td>\n",
       "      <td>2.496878</td>\n",
       "      <td>-3.074262</td>\n",
       "      <td>0.018017</td>\n",
       "    </tr>\n",
       "    <tr>\n",
       "      <th>22</th>\n",
       "      <td>AACTCACTTGGAGG</td>\n",
       "      <td>4.297484</td>\n",
       "      <td>1.522155</td>\n",
       "      <td>1.964702</td>\n",
       "      <td>0.916371</td>\n",
       "      <td>-0.683511</td>\n",
       "    </tr>\n",
       "    <tr>\n",
       "      <th>23</th>\n",
       "      <td>AACTCGGAAGGTCT</td>\n",
       "      <td>6.532705</td>\n",
       "      <td>0.277970</td>\n",
       "      <td>-1.412249</td>\n",
       "      <td>1.017019</td>\n",
       "      <td>0.681685</td>\n",
       "    </tr>\n",
       "    <tr>\n",
       "      <th>24</th>\n",
       "      <td>AACTGTCTCCCTTG</td>\n",
       "      <td>4.771506</td>\n",
       "      <td>1.805427</td>\n",
       "      <td>2.435555</td>\n",
       "      <td>-1.506123</td>\n",
       "      <td>-0.441907</td>\n",
       "    </tr>\n",
       "  </tbody>\n",
       "</table>\n",
       "</div>"
      ],
      "text/plain": [
       "        Unnamed: 0       PC_1      PC_2      PC_3      PC_4      PC_5\n",
       "0   AAACCGTGCTTCCG  -0.334611 -0.973064 -0.075584 -0.153610 -0.851994\n",
       "1   AAACGCTGTTTCTG   5.558206 -3.939912 -6.719958  5.287234 -0.592665\n",
       "2   AAAGAGACGCGAGA  -1.413016  1.226474  2.840675  0.558084  4.779749\n",
       "3   AAAGCAGATATCGG  -6.217906 -0.855824  4.287036 -3.522270  2.558830\n",
       "4   AAAGTTTGTAGCGT   5.138953  1.219816 -0.190048 -0.195437  1.369196\n",
       "5   AAATCAACCCTATT  -8.643385 -1.846813 -0.738421  5.892154 -7.573796\n",
       "6   AAATCATGACCACA  -9.683405 -6.973077 -6.825142  5.183110  0.245244\n",
       "7   AAATGTTGAACGAA   1.918918  1.183611  2.569566 -2.589635  1.729954\n",
       "8   AAATGTTGTGGCAT  -2.764088 -0.959742  1.838465 -2.350117  2.576929\n",
       "9   AAATTCGAATCACG   6.243531  1.419469  1.213018  1.077085 -1.268777\n",
       "10  AAATTCGAGCTGAT  -2.452379 -4.123004 -0.437019  1.104583  2.751235\n",
       "11  AACACGTGGAACCT   3.127348 -0.942296 -0.225509 -1.575584  0.555177\n",
       "12  AACACGTGTACGAC  -6.924004 -5.157157 -4.638076  1.921143  2.254966\n",
       "13  AACAGCACAAGAGT  11.119974 -1.213287 -3.776990  3.907116  0.245200\n",
       "14  AACATTGATGGGAG  -7.927472 -4.386244 -0.003822 -0.137707  1.474358\n",
       "15  AACCAGTGATACCG  -7.233583 -5.835033 -0.527144  0.801080 -1.398150\n",
       "16  AACCGATGTTCTAC   3.953711  2.220010  1.448344 -1.939564  0.146375\n",
       "17  AACCGCCTCTACGA  -3.932309  0.691367  3.376944 -2.873753  5.348812\n",
       "18  AACCTACTGTGAGG  -9.359974  2.131520  1.847297 -8.509225  4.082307\n",
       "19  AACCTTACTAACGC  -0.793980 -5.376168 -3.385078  2.360172 -0.908210\n",
       "20  AACCTTTGTACGCA  -9.821642 -3.390442 -0.741098  1.260087  1.531868\n",
       "21  AACTCACTCAAGCT   1.677040  0.322130  2.496878 -3.074262  0.018017\n",
       "22  AACTCACTTGGAGG   4.297484  1.522155  1.964702  0.916371 -0.683511\n",
       "23  AACTCGGAAGGTCT   6.532705  0.277970 -1.412249  1.017019  0.681685\n",
       "24  AACTGTCTCCCTTG   4.771506  1.805427  2.435555 -1.506123 -0.441907"
      ]
     },
     "execution_count": 5,
     "metadata": {},
     "output_type": "execute_result"
    }
   ],
   "source": [
    "mcca1"
   ]
  },
  {
   "cell_type": "code",
   "execution_count": 6,
   "id": "0fb141db",
   "metadata": {},
   "outputs": [],
   "source": [
    "# get values only from datsets\n",
    "datasets = [mcca1.iloc[:,1:7].values, mcca2.iloc[:,1:6].values]"
   ]
  },
  {
   "cell_type": "code",
   "execution_count": 7,
   "id": "a9eb3d07",
   "metadata": {},
   "outputs": [
    {
     "name": "stdout",
     "output_type": "stream",
     "text": [
      "Model unknown\n",
      "\n",
      "  Variables:\n",
      "    w_i_f : Size=10, Index=w_i_f_index\n",
      "        Key    : Lower : Value                : Upper : Fixed : Stale : Domain\n",
      "        (0, 0) :  None :  0.07040724965597965 :  None : False : False :  Reals\n",
      "        (0, 1) :  None :  -0.6977999020370866 :  None : False : False :  Reals\n",
      "        (0, 2) :  None :   -0.592616752530863 :  None : False : False :  Reals\n",
      "        (0, 3) :  None :  0.39099294023035963 :  None : False : False :  Reals\n",
      "        (0, 4) :  None :   0.0636241383741811 :  None : False : False :  Reals\n",
      "        (1, 0) :  None : 0.003951963934108804 :  None : False : False :  Reals\n",
      "        (1, 1) :  None :  -0.5278884744303985 :  None : False : False :  Reals\n",
      "        (1, 2) :  None :  -0.3084078577776999 :  None : False : False :  Reals\n",
      "        (1, 3) :  None :  0.15567065669290509 :  None : False : False :  Reals\n",
      "        (1, 4) :  None :   0.7758668637153872 :  None : False : False :  Reals\n",
      "\n",
      "  Objectives:\n",
      "    Obj : Size=1, Index=None, Active=True\n",
      "        Key  : Active : Value\n",
      "        None :   True : 20.982351838623337\n",
      "\n",
      "  Constraints:\n",
      "    constraint_lasso : Size=2\n",
      "        Key : Lower : Body                : Upper\n",
      "          1 :  None : -0.7653923263074291 :   1.5\n",
      "          2 :  None : 0.09919315213430258 :   1.5\n",
      "    constraint_norm2 : Size=2\n",
      "        Key : Lower : Body               : Upper\n",
      "          1 :  None : 1.0000000097611517 :   1.0\n",
      "          2 :  None : 1.0000000097611714 :   1.0\n",
      "Model unknown\n",
      "\n",
      "  Variables:\n",
      "    w_i_f : Size=10, Index=w_i_f_index\n",
      "        Key    : Lower : Value                 : Upper : Fixed : Stale : Domain\n",
      "        (0, 0) :  None : -0.023557468054500253 :  None : False : False :  Reals\n",
      "        (0, 1) :  None :    -0.731982967032256 :  None : False : False :  Reals\n",
      "        (0, 2) :  None :   -0.5664184371642865 :  None : False : False :  Reals\n",
      "        (0, 3) :  None :     0.374258353035654 :  None : False : False :  Reals\n",
      "        (0, 4) :  None :    0.0524102154645371 :  None : False : False :  Reals\n",
      "        (1, 0) :  None :    0.2377044481767771 :  None : False : False :  Reals\n",
      "        (1, 1) :  None :   -0.4732980471579186 :  None : False : False :  Reals\n",
      "        (1, 2) :  None :  -0.10075965561098812 :  None : False : False :  Reals\n",
      "        (1, 3) :  None :   0.26858639680708724 :  None : False : False :  Reals\n",
      "        (1, 4) :  None :     0.798244575874462 :  None : False : False :  Reals\n",
      "\n",
      "  Objectives:\n",
      "    Obj : Size=1, Index=None, Active=True\n",
      "        Key  : Active : Value\n",
      "        None :   True : 23.649156475759593\n",
      "\n",
      "  Constraints:\n",
      "    constraint_lasso : Size=2\n",
      "        Key : Lower : Body                : Upper\n",
      "          1 :  None : -0.8952903037508516 :   1.5\n",
      "          2 :  None :  0.7304777180894195 :   1.5\n",
      "    constraint_norm2 : Size=2\n",
      "        Key : Lower : Body               : Upper\n",
      "          1 :  None : 1.0000000097881159 :   1.0\n",
      "          2 :  None : 1.0000000097881843 :   1.0\n",
      "Model unknown\n",
      "\n",
      "  Variables:\n",
      "    w_i_f : Size=10, Index=w_i_f_index\n",
      "        Key    : Lower : Value                : Upper : Fixed : Stale : Domain\n",
      "        (0, 0) :  None :  -0.3151619675148293 :  None : False : False :  Reals\n",
      "        (0, 1) :  None : -0.26364387424437075 :  None : False : False :  Reals\n",
      "        (0, 2) :  None :  -0.3533053516644132 :  None : False : False :  Reals\n",
      "        (0, 3) :  None :  -0.7136253889512072 :  None : False : False :  Reals\n",
      "        (0, 4) :  None :  -0.4439357886257618 :  None : False : False :  Reals\n",
      "        (1, 0) :  None :  -0.2090530591262739 :  None : False : False :  Reals\n",
      "        (1, 1) :  None :  -0.7424944797297749 :  None : False : False :  Reals\n",
      "        (1, 2) :  None :  -0.3441507010393054 :  None : False : False :  Reals\n",
      "        (1, 3) :  None : -0.33016619283598286 :  None : False : False :  Reals\n",
      "        (1, 4) :  None :  -0.4213660593958157 :  None : False : False :  Reals\n",
      "\n",
      "  Objectives:\n",
      "    Obj : Size=1, Index=None, Active=True\n",
      "        Key  : Active : Value\n",
      "        None :   True : 44.610262645448834\n",
      "\n",
      "  Constraints:\n",
      "    constraint_lasso : Size=2\n",
      "        Key : Lower : Body                : Upper\n",
      "          1 :  None : -2.0896723710005825 :   1.5\n",
      "          2 :  None : -2.0472304921271527 :   1.5\n",
      "    constraint_norm2 : Size=2\n",
      "        Key : Lower : Body               : Upper\n",
      "          1 :  None : 1.0000000098876534 :   1.0\n",
      "          2 :  None : 1.0000000098876534 :   1.0\n"
     ]
    }
   ],
   "source": [
    "weights,_ = lp_pmd(datasets=datasets, penalties=[1.5, 1.5], K=3, standardize=True, mimic_R=True)"
   ]
  },
  {
   "cell_type": "code",
   "execution_count": 8,
   "id": "d917b6ea",
   "metadata": {},
   "outputs": [
    {
     "data": {
      "text/plain": [
       "array([[[ 0.07040725, -0.02355747, -0.31516197],\n",
       "        [-0.6977999 , -0.73198297, -0.26364387],\n",
       "        [-0.59261675, -0.56641844, -0.35330535],\n",
       "        [ 0.39099294,  0.37425835, -0.71362539],\n",
       "        [ 0.06362414,  0.05241022, -0.44393579]],\n",
       "\n",
       "       [[ 0.00395196,  0.23770445, -0.20905306],\n",
       "        [-0.52788847, -0.47329805, -0.74249448],\n",
       "        [-0.30840786, -0.10075966, -0.3441507 ],\n",
       "        [ 0.15567066,  0.2685864 , -0.33016619],\n",
       "        [ 0.77586686,  0.79824458, -0.42136606]]])"
      ]
     },
     "execution_count": 8,
     "metadata": {},
     "output_type": "execute_result"
    }
   ],
   "source": [
    "weights"
   ]
  },
  {
   "attachments": {},
   "cell_type": "markdown",
   "id": "565d5a06",
   "metadata": {},
   "source": [
    "# This Notebook is examplatory for the linear programing approach with K=1."
   ]
  },
  {
   "attachments": {},
   "cell_type": "markdown",
   "id": "912802db",
   "metadata": {},
   "source": [
    "## Parameters"
   ]
  },
  {
   "cell_type": "code",
   "execution_count": 9,
   "id": "8a972474",
   "metadata": {},
   "outputs": [],
   "source": [
    "# Parameters \n",
    "standardize = True\n",
    "mimic_R = True\n",
    "# penalties need to have the same length as datasets\n",
    "penalties = [1, 1]\n",
    "K = 1"
   ]
  },
  {
   "cell_type": "markdown",
   "id": "a4021780",
   "metadata": {},
   "source": [
    "## Prepare data"
   ]
  },
  {
   "cell_type": "code",
   "execution_count": 10,
   "id": "6c3a48fa",
   "metadata": {},
   "outputs": [],
   "source": [
    "from sparsecca._utils_pmd import scale"
   ]
  },
  {
   "cell_type": "code",
   "execution_count": 11,
   "id": "bc9cac13",
   "metadata": {},
   "outputs": [],
   "source": [
    "# preprocess data\n",
    "datasets = datasets.copy()\n",
    "# at least 2 features are needed\n",
    "for data in datasets:\n",
    "    if len(data[0]) < 2:\n",
    "        raise Exception('Need at least 2 features in each dataset')\n",
    "\n",
    "# standardize if set TRUE\n",
    "if standardize:\n",
    "    for idx in range(len(datasets)):\n",
    "        if mimic_R:\n",
    "            datasets[idx] = scale(datasets[idx], center=True, scale=True)\n",
    "        else:\n",
    "            datasets[idx] = scale(datasets[idx], center=True, scale=False)\n",
    "        datasets[idx] = datasets[idx].tolist()\n"
   ]
  },
  {
   "attachments": {},
   "cell_type": "markdown",
   "id": "2440e1e9",
   "metadata": {},
   "source": [
    "## Create Model"
   ]
  },
  {
   "cell_type": "code",
   "execution_count": 12,
   "id": "1b43a4c9",
   "metadata": {},
   "outputs": [],
   "source": [
    "model = pyo.ConcreteModel()"
   ]
  },
  {
   "attachments": {},
   "cell_type": "markdown",
   "id": "54e1774d",
   "metadata": {},
   "source": [
    "## Sets"
   ]
  },
  {
   "cell_type": "code",
   "execution_count": 13,
   "id": "8598123f",
   "metadata": {},
   "outputs": [],
   "source": [
    "model.N = pyo.Set(initialize=range(len(datasets)))\n",
    "model.S = pyo.Set(initialize=range(len(datasets[0])))\n",
    "model.F = pyo.Set(initialize=range(len(datasets[0][0])))\n",
    "model.X = pyo.Set(initialize=datasets) "
   ]
  },
  {
   "attachments": {},
   "cell_type": "markdown",
   "id": "3c55d3ec",
   "metadata": {},
   "source": [
    "## Parameters"
   ]
  },
  {
   "cell_type": "code",
   "execution_count": 14,
   "id": "8032d608",
   "metadata": {},
   "outputs": [],
   "source": [
    "# params: ci i in [1:K]\n",
    "model.c = pyo.Param(model.N, initialize=penalties)"
   ]
  },
  {
   "attachments": {},
   "cell_type": "markdown",
   "id": "b6e7ed58",
   "metadata": {},
   "source": [
    "## Variables"
   ]
  },
  {
   "cell_type": "code",
   "execution_count": 15,
   "id": "8416eb51",
   "metadata": {},
   "outputs": [],
   "source": [
    "# get initial weigths with svd\n",
    "ws_init = []\n",
    "for idx in range(len(datasets)):\n",
    "    ws_init.append(svd(datasets[idx])[2][0:K].T)\n"
   ]
  },
  {
   "cell_type": "code",
   "execution_count": 16,
   "id": "56cdb64d",
   "metadata": {},
   "outputs": [
    {
     "data": {
      "text/plain": [
       "[array([[-0.09944126],\n",
       "        [-0.51134763],\n",
       "        [-0.54861213],\n",
       "        [ 0.55350196],\n",
       "        [-0.34827481]]),\n",
       " array([[ 0.54545036],\n",
       "        [-0.55050983],\n",
       "        [ 0.50197444],\n",
       "        [ 0.01276177],\n",
       "        [ 0.38377289]])]"
      ]
     },
     "execution_count": 16,
     "metadata": {},
     "output_type": "execute_result"
    }
   ],
   "source": [
    "ws_init"
   ]
  },
  {
   "cell_type": "code",
   "execution_count": 17,
   "id": "1446fc1e",
   "metadata": {},
   "outputs": [],
   "source": [
    "model.w_i_f = pyo.Var(model.N, model.F,initialize=0.5)\n",
    "for n in range(len(ws_init)):\n",
    "    for f in range(len(ws_init[0])):\n",
    "        model.w_i_f[n,f].value = ws_init[n][f][0]"
   ]
  },
  {
   "cell_type": "markdown",
   "id": "2c7175c3",
   "metadata": {},
   "source": [
    "## Objective"
   ]
  },
  {
   "attachments": {},
   "cell_type": "markdown",
   "id": "2f94d321",
   "metadata": {},
   "source": [
    "\\begin{array}{lll}\n",
    "    \\max_u,_v u^TX^TYv\\\\\n",
    "\\end{array}"
   ]
  },
  {
   "cell_type": "code",
   "execution_count": 18,
   "id": "351e4a6c",
   "metadata": {},
   "outputs": [],
   "source": [
    "def ObjRule(model):\n",
    "    \"\"\"Objective Function (4.3 in witten 2009)\"\"\"\n",
    "    features = len(model.F.data())\n",
    "    samples = len(model.S.data())\n",
    "    return sum(\n",
    "                (np.asarray([model.w_i_f[idx, f] for f in model.F.data()])[np.newaxis]\n",
    "               @ np.asarray(xi).reshape(samples,features).T \n",
    "               @ np.asarray(xj).reshape(samples,features)\n",
    "               @ np.asarray([model.w_i_f[jdx, f] for f in model.F.data()])[np.newaxis].T)[0,0] \n",
    "               for idx, xi in enumerate(model.X) for jdx, xj in enumerate(model.X) if idx<jdx )\n",
    "        "
   ]
  },
  {
   "cell_type": "code",
   "execution_count": 19,
   "id": "a6264823",
   "metadata": {},
   "outputs": [],
   "source": [
    "# Objective\n",
    "model.Obj = pyo.Objective(rule=ObjRule, sense=pyo.maximize)"
   ]
  },
  {
   "attachments": {},
   "cell_type": "markdown",
   "id": "262ae1de",
   "metadata": {},
   "source": [
    "## Constraints"
   ]
  },
  {
   "attachments": {},
   "cell_type": "markdown",
   "id": "32cc74bb",
   "metadata": {},
   "source": [
    "\\begin{align}\n",
    "\\sum_{i=1}^n |u_{i}| \\leq c_1\\\\\n",
    "\\end{align}\n",
    "\n",
    "\n"
   ]
  },
  {
   "cell_type": "code",
   "execution_count": 20,
   "id": "71c0fb6f",
   "metadata": {},
   "outputs": [],
   "source": [
    "\"\"\"Constraint Lasso (2.3 in witten 2009)\"\"\"\n",
    "# P1(u) = sum_{i=1}^n |u_{i}| <= c_1\n",
    "model.constraint_lasso = pyo.ConstraintList()\n",
    "for i in model.N:\n",
    "    model.constraint_lasso.add(sum(model.w_i_f[i,f] for f in model.F.data())<= model.c[i])"
   ]
  },
  {
   "attachments": {},
   "cell_type": "markdown",
   "id": "006fd3e2",
   "metadata": {},
   "source": [
    "\\begin{align}\n",
    "||v||^2_2=1\n",
    "\\end{align}"
   ]
  },
  {
   "cell_type": "code",
   "execution_count": 21,
   "id": "c8d1ca65",
   "metadata": {},
   "outputs": [],
   "source": [
    "\"\"\"Constraint 2norm (2.3 in witten 2009)\"\"\"\n",
    "# ||v||^2 2 = 1\n",
    "model.constraint_norm2 = pyo.ConstraintList()\n",
    "for i in model.N:\n",
    "    model.constraint_norm2.add(sum(model.w_i_f[i,f] * model.w_i_f[i,f] for f in model.F.data()) <= 1)\n"
   ]
  },
  {
   "attachments": {},
   "cell_type": "markdown",
   "id": "0f33c940",
   "metadata": {},
   "source": [
    "## Solve with ipopt"
   ]
  },
  {
   "cell_type": "code",
   "execution_count": 22,
   "id": "483b1cde",
   "metadata": {},
   "outputs": [],
   "source": [
    "nonLinearOpt =pyo.SolverFactory('ipopt')\n",
    "instance_non_linear = model.create_instance()\n",
    "res = nonLinearOpt.solve(instance_non_linear)\n",
    "model.solutions.load_from(res)"
   ]
  },
  {
   "cell_type": "code",
   "execution_count": 23,
   "id": "a4c78f02",
   "metadata": {},
   "outputs": [
    {
     "name": "stdout",
     "output_type": "stream",
     "text": [
      "Model unknown\n",
      "\n",
      "  Variables:\n",
      "    w_i_f : Size=10, Index=w_i_f_index\n",
      "        Key    : Lower : Value                : Upper : Fixed : Stale : Domain\n",
      "        (0, 0) :  None :  0.07040724964484998 :  None : False : False :  Reals\n",
      "        (0, 1) :  None :  -0.6977999020332945 :  None : False : False :  Reals\n",
      "        (0, 2) :  None :  -0.5926167525490866 :  None : False : False :  Reals\n",
      "        (0, 3) :  None :  0.39099294021568715 :  None : False : False :  Reals\n",
      "        (0, 4) :  None :  0.06362413834854513 :  None : False : False :  Reals\n",
      "        (1, 0) :  None : 0.003951963883473098 :  None : False : False :  Reals\n",
      "        (1, 1) :  None :  -0.5278884744772177 :  None : False : False :  Reals\n",
      "        (1, 2) :  None : -0.30840785783375524 :  None : False : False :  Reals\n",
      "        (1, 3) :  None :  0.15567065664938798 :  None : False : False :  Reals\n",
      "        (1, 4) :  None :   0.7758668636702594 :  None : False : False :  Reals\n",
      "\n",
      "  Objectives:\n",
      "    Obj : Size=1, Index=None, Active=True\n",
      "        Key  : Active : Value\n",
      "        None :   True : 20.982351838623707\n",
      "\n",
      "  Constraints:\n",
      "    constraint_lasso : Size=2\n",
      "        Key : Lower : Body                : Upper\n",
      "          1 :  None : -0.7653923263732989 :   1.0\n",
      "          2 :  None :  0.0991931518921475 :   1.0\n",
      "    constraint_norm2 : Size=2\n",
      "        Key : Lower : Body               : Upper\n",
      "          1 :  None : 1.0000000097611557 :   1.0\n",
      "          2 :  None : 1.0000000097612025 :   1.0\n"
     ]
    }
   ],
   "source": [
    "instance_non_linear.display()"
   ]
  },
  {
   "cell_type": "code",
   "execution_count": 24,
   "id": "657e27a9",
   "metadata": {},
   "outputs": [
    {
     "name": "stdout",
     "output_type": "stream",
     "text": [
      "Model unknown\n",
      "\n",
      "  Variables:\n",
      "    w_i_f : Size=10, Index=w_i_f_index\n",
      "        Key    : Lower : Value                : Upper : Fixed : Stale : Domain\n",
      "        (0, 0) :  None :  0.07040724964484998 :  None : False : False :  Reals\n",
      "        (0, 1) :  None :  -0.6977999020332945 :  None : False : False :  Reals\n",
      "        (0, 2) :  None :  -0.5926167525490866 :  None : False : False :  Reals\n",
      "        (0, 3) :  None :  0.39099294021568715 :  None : False : False :  Reals\n",
      "        (0, 4) :  None :  0.06362413834854513 :  None : False : False :  Reals\n",
      "        (1, 0) :  None : 0.003951963883473098 :  None : False : False :  Reals\n",
      "        (1, 1) :  None :  -0.5278884744772177 :  None : False : False :  Reals\n",
      "        (1, 2) :  None : -0.30840785783375524 :  None : False : False :  Reals\n",
      "        (1, 3) :  None :  0.15567065664938798 :  None : False : False :  Reals\n",
      "        (1, 4) :  None :   0.7758668636702594 :  None : False : False :  Reals\n",
      "\n",
      "  Objectives:\n",
      "    Obj : Size=1, Index=None, Active=True\n",
      "        Key  : Active : Value\n",
      "        None :   True : 20.982351838623707\n",
      "\n",
      "  Constraints:\n",
      "    constraint_lasso : Size=2\n",
      "        Key : Lower : Body                : Upper\n",
      "          1 :  None : -0.7653923263732989 :   1.0\n",
      "          2 :  None :  0.0991931518921475 :   1.0\n",
      "    constraint_norm2 : Size=2\n",
      "        Key : Lower : Body               : Upper\n",
      "          1 :  None : 1.0000000097611557 :   1.0\n",
      "          2 :  None : 1.0000000097612025 :   1.0\n"
     ]
    }
   ],
   "source": [
    "instance_non_linear.display()"
   ]
  },
  {
   "cell_type": "code",
   "execution_count": 25,
   "id": "769e152e",
   "metadata": {},
   "outputs": [],
   "source": [
    "w = defaultdict(list)\n",
    "for i in model.N:\n",
    "    for f in model.F.data():\n",
    "            w[i].append(instance_non_linear.w_i_f[i,f].value) \n",
    "weigths_k1 = []\n",
    "for i in range(len(w)):\n",
    "    weigths_k1.append(np.asarray(w[i]).reshape(len(model.F.data()),1))# 1 cause K is one in this example\n"
   ]
  },
  {
   "attachments": {},
   "cell_type": "markdown",
   "id": "68bc5f42",
   "metadata": {},
   "source": [
    "## Results"
   ]
  },
  {
   "cell_type": "code",
   "execution_count": 26,
   "id": "2565f5a4",
   "metadata": {},
   "outputs": [
    {
     "data": {
      "text/plain": [
       "[array([[ 0.07040725],\n",
       "        [-0.6977999 ],\n",
       "        [-0.59261675],\n",
       "        [ 0.39099294],\n",
       "        [ 0.06362414]]),\n",
       " array([[ 0.00395196],\n",
       "        [-0.52788847],\n",
       "        [-0.30840786],\n",
       "        [ 0.15567066],\n",
       "        [ 0.77586686]])]"
      ]
     },
     "execution_count": 26,
     "metadata": {},
     "output_type": "execute_result"
    }
   ],
   "source": [
    "weigths_k1"
   ]
  }
 ],
 "metadata": {
  "kernelspec": {
   "display_name": "Python 3",
   "language": "python",
   "name": "python3"
  },
  "language_info": {
   "codemirror_mode": {
    "name": "ipython",
    "version": 3
   },
   "file_extension": ".py",
   "mimetype": "text/x-python",
   "name": "python",
   "nbconvert_exporter": "python",
   "pygments_lexer": "ipython3",
   "version": "3.9.0"
  },
  "vscode": {
   "interpreter": {
    "hash": "d4d1e4263499bec80672ea0156c357c1ee493ec2b1c70f0acce89fc37c4a6abe"
   }
  }
 },
 "nbformat": 4,
 "nbformat_minor": 5
}
