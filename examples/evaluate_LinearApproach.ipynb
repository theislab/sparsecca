{
 "cells": [
  {
   "attachments": {},
   "cell_type": "markdown",
   "metadata": {},
   "source": [
    "# Comparing Permutation lp_pmd & R\n",
    "## Permutation lp_pmd"
   ]
  },
  {
   "cell_type": "code",
   "execution_count": 4,
   "metadata": {},
   "outputs": [],
   "source": [
    "from sparsecca._multicca_lp import lp_pmd\n",
    "import pandas as pd\n",
    "import numpy as np"
   ]
  },
  {
   "cell_type": "code",
   "execution_count": 5,
   "metadata": {},
   "outputs": [],
   "source": [
    "def test_weights(weights_a, weights_b, perm_b, dec=5):\n",
    "    \"\"\" tests whether it is solved for same weights when permuting Xn in input \n",
    "        --------\n",
    "        Parameter:  weights_a: output of lp_pmd \n",
    "                    weights_b: output of lp_pmd permuted Xn\n",
    "                               -> weights are of type np.ndarray in shape (N, f, K)\n",
    "                                - N: len(Xn) datasets\n",
    "                                - f: amount of features\n",
    "                                - K: amount of MCPs\n",
    "                    perm_b:    permutation of datasets\n",
    "                    dec:       decimals to which weights should be rounded\n",
    "                \n",
    "        returns: boolean: True if rounded weights are th same\n",
    "                          False if not the same\n",
    "    \"\"\"\n",
    "    \n",
    "    weights_a_rounded = weights_a.round(decimals=dec)\n",
    "    weights_b_rounded = weights_b.round(decimals=dec)\n",
    "    \n",
    "    weights_b_ordered = []\n",
    "    for o in perm_b:\n",
    "        weights_b_ordered.append(weights_b_rounded[o])\n",
    "        \n",
    "    return all(x==True for x in (weights_a_rounded==weights_b_ordered).flatten())"
   ]
  },
  {
   "cell_type": "code",
   "execution_count": 6,
   "metadata": {},
   "outputs": [],
   "source": [
    "# example input\n",
    "mcca1 = pd.read_csv(\"../data/multicca1.csv\", sep=\",\")\n",
    "mcca2 = pd.read_csv(\"../data/multicca3.csv\", sep=\",\")\n",
    "mcca3 = pd.read_csv(\"../data/multicca4.csv\", sep=\",\")"
   ]
  },
  {
   "cell_type": "code",
   "execution_count": 7,
   "metadata": {},
   "outputs": [],
   "source": [
    "# get values only from datsets\n",
    "datasets = [mcca1.iloc[:,1:7].values, mcca2.iloc[:,1:7].values, mcca3.iloc[:,1:7].values]\n",
    "datasets_perm = [mcca3.iloc[:,1:7].values, mcca1.iloc[:,1:7].values, mcca2.iloc[:,1:7].values]"
   ]
  },
  {
   "cell_type": "code",
   "execution_count": 8,
   "metadata": {},
   "outputs": [
    {
     "name": "stdout",
     "output_type": "stream",
     "text": [
      "ERROR: Unable to clone Pyomo component attribute. Component 'Obj' contains an\n",
      "    uncopyable field '_init_sense' (<class\n",
      "    'pyomo.core.base.initializer.ConstantInitializer'>).  Setting field to\n",
      "    `None` on new object\n",
      "Model unknown\n",
      "\n",
      "  Variables:\n",
      "    w_i_f : Size=15, Index=w_i_f_index\n",
      "        Key    : Lower : Value                : Upper : Fixed : Stale : Domain\n",
      "        (0, 0) :  None :  0.12902013243175234 :  None : False : False :  Reals\n",
      "        (0, 1) :  None :  -0.7267034167497635 :  None : False : False :  Reals\n",
      "        (0, 2) :  None :  -0.5514961376549197 :  None : False : False :  Reals\n",
      "        (0, 3) :  None :   0.3521081788300304 :  None : False : False :  Reals\n",
      "        (0, 4) :  None :  0.16470519095417985 :  None : False : False :  Reals\n",
      "        (1, 0) :  None :  0.22484145596723384 :  None : False : False :  Reals\n",
      "        (1, 1) :  None :  -0.6475990962207132 :  None : False : False :  Reals\n",
      "        (1, 2) :  None : 0.028845632100235025 :  None : False : False :  Reals\n",
      "        (1, 3) :  None :   0.2656479398776398 :  None : False : False :  Reals\n",
      "        (1, 4) :  None :   0.6772450381640168 :  None : False : False :  Reals\n",
      "        (2, 0) :  None :  0.13210353603984287 :  None : False : False :  Reals\n",
      "        (2, 1) :  None :  -0.6514858105703142 :  None : False : False :  Reals\n",
      "        (2, 2) :  None :  0.06037328787670365 :  None : False : False :  Reals\n",
      "        (2, 3) :  None :   0.2854834587356062 :  None : False : False :  Reals\n",
      "        (2, 4) :  None :   0.6877275370422724 :  None : False : False :  Reals\n",
      "\n",
      "  Objectives:\n",
      "    Obj : Size=1, Index=None, Active=True\n",
      "        Key  : Active : Value\n",
      "        None :   True : 78.40033470807778\n",
      "\n",
      "  Constraints:\n",
      "    constraint_lasso : Size=3\n",
      "        Key : Lower : Body                : Upper\n",
      "          1 :  None : -0.6323660521887204 :   1.5\n",
      "          2 :  None :  0.5489809698884123 :   1.5\n",
      "          3 :  None :  0.5142020091241111 :   1.5\n",
      "    constraint_norm2 : Size=3\n",
      "        Key : Lower : Body               : Upper\n",
      "          1 :  None :  1.000000009863035 :   1.0\n",
      "          2 :  None :  1.000000009917627 :   1.0\n",
      "          3 :  None : 1.0000000099156074 :   1.0\n",
      "Model unknown\n",
      "\n",
      "  Variables:\n",
      "    w_i_f : Size=15, Index=w_i_f_index\n",
      "        Key    : Lower : Value                : Upper : Fixed : Stale : Domain\n",
      "        (0, 0) :  None :  0.13210353603984293 :  None : False : False :  Reals\n",
      "        (0, 1) :  None :  -0.6514858105703143 :  None : False : False :  Reals\n",
      "        (0, 2) :  None : 0.060373287876703666 :  None : False : False :  Reals\n",
      "        (0, 3) :  None :   0.2854834587356062 :  None : False : False :  Reals\n",
      "        (0, 4) :  None :   0.6877275370422723 :  None : False : False :  Reals\n",
      "        (1, 0) :  None :  0.12902013243175234 :  None : False : False :  Reals\n",
      "        (1, 1) :  None :  -0.7267034167497634 :  None : False : False :  Reals\n",
      "        (1, 2) :  None :  -0.5514961376549198 :  None : False : False :  Reals\n",
      "        (1, 3) :  None :  0.35210817883003054 :  None : False : False :  Reals\n",
      "        (1, 4) :  None :  0.16470519095417985 :  None : False : False :  Reals\n",
      "        (2, 0) :  None :  0.22484145596723396 :  None : False : False :  Reals\n",
      "        (2, 1) :  None :  -0.6475990962207132 :  None : False : False :  Reals\n",
      "        (2, 2) :  None : 0.028845632100235025 :  None : False : False :  Reals\n",
      "        (2, 3) :  None :   0.2656479398776398 :  None : False : False :  Reals\n",
      "        (2, 4) :  None :   0.6772450381640168 :  None : False : False :  Reals\n",
      "\n",
      "  Objectives:\n",
      "    Obj : Size=1, Index=None, Active=True\n",
      "        Key  : Active : Value\n",
      "        None :   True : 78.40033470807776\n",
      "\n",
      "  Constraints:\n",
      "    constraint_lasso : Size=3\n",
      "        Key : Lower : Body                : Upper\n",
      "          1 :  None :  0.5142020091241108 :   1.5\n",
      "          2 :  None : -0.6323660521887204 :   1.5\n",
      "          3 :  None :  0.5489809698884124 :   1.5\n",
      "    constraint_norm2 : Size=3\n",
      "        Key : Lower : Body               : Upper\n",
      "          1 :  None : 1.0000000099156074 :   1.0\n",
      "          2 :  None :  1.000000009863035 :   1.0\n",
      "          3 :  None :  1.000000009917627 :   1.0\n"
     ]
    }
   ],
   "source": [
    "# first dataset \n",
    "ws_LA,_ = lp_pmd(datasets, [1.5, 1.5,1.5],K=1,standardize=True, mimic_R=True)\n",
    "# second dataset with perm 1, 2, 0\n",
    "ws_LA_perm,_ = lp_pmd(datasets_perm, [1.5, 1.5,1.5],K=1,standardize=True, mimic_R=True)"
   ]
  },
  {
   "attachments": {},
   "cell_type": "markdown",
   "metadata": {},
   "source": [
    "#### Compare Output for lp_pmd"
   ]
  },
  {
   "cell_type": "code",
   "execution_count": 9,
   "metadata": {},
   "outputs": [
    {
     "data": {
      "text/plain": [
       "array([[[ 0.12902013],\n",
       "        [-0.72670342],\n",
       "        [-0.55149614],\n",
       "        [ 0.35210818],\n",
       "        [ 0.16470519]],\n",
       "\n",
       "       [[ 0.22484146],\n",
       "        [-0.6475991 ],\n",
       "        [ 0.02884563],\n",
       "        [ 0.26564794],\n",
       "        [ 0.67724504]],\n",
       "\n",
       "       [[ 0.13210354],\n",
       "        [-0.65148581],\n",
       "        [ 0.06037329],\n",
       "        [ 0.28548346],\n",
       "        [ 0.68772754]]])"
      ]
     },
     "execution_count": 9,
     "metadata": {},
     "output_type": "execute_result"
    }
   ],
   "source": [
    "# output for dataset\n",
    "ws_LA\n"
   ]
  },
  {
   "cell_type": "code",
   "execution_count": 10,
   "metadata": {},
   "outputs": [
    {
     "data": {
      "text/plain": [
       "array([[[ 0.13210354],\n",
       "        [-0.65148581],\n",
       "        [ 0.06037329],\n",
       "        [ 0.28548346],\n",
       "        [ 0.68772754]],\n",
       "\n",
       "       [[ 0.12902013],\n",
       "        [-0.72670342],\n",
       "        [-0.55149614],\n",
       "        [ 0.35210818],\n",
       "        [ 0.16470519]],\n",
       "\n",
       "       [[ 0.22484146],\n",
       "        [-0.6475991 ],\n",
       "        [ 0.02884563],\n",
       "        [ 0.26564794],\n",
       "        [ 0.67724504]]])"
      ]
     },
     "execution_count": 10,
     "metadata": {},
     "output_type": "execute_result"
    }
   ],
   "source": [
    "# output for dataset with perm 1,2,0\n",
    "ws_LA_perm"
   ]
  },
  {
   "cell_type": "code",
   "execution_count": 11,
   "metadata": {},
   "outputs": [
    {
     "data": {
      "text/plain": [
       "True"
      ]
     },
     "execution_count": 11,
     "metadata": {},
     "output_type": "execute_result"
    }
   ],
   "source": [
    "test_weights(ws_LA, ws_LA_perm, [1,2,0])"
   ]
  },
  {
   "attachments": {},
   "cell_type": "markdown",
   "metadata": {},
   "source": [
    "## Permutation of R-function "
   ]
  },
  {
   "cell_type": "code",
   "execution_count": 12,
   "metadata": {},
   "outputs": [],
   "source": [
    "from rpy2 import robjects\n",
    "import rpy2.robjects.packages as rpackages"
   ]
  },
  {
   "cell_type": "code",
   "execution_count": 13,
   "metadata": {},
   "outputs": [
    {
     "name": "stdout",
     "output_type": "stream",
     "text": [
      "12345671234"
     ]
    }
   ],
   "source": [
    "utils = rpackages.importr(\"utils\")\n",
    "utils.chooseCRANmirror(ind=1)\n",
    "\n",
    "if not rpackages.isinstalled(\"PMA\"):\n",
    "    utils.install_packages(\"PMA\", verbose=True)\n",
    "\n",
    "r_pma_ws = robjects.r(\n",
    "    \"\"\"\n",
    "    library(\"PMA\")\n",
    "\n",
    "    cls <- c(lat = \"numeric\", lon = \"numeric\")\n",
    "    data1 <- read.table(\"/workspaces/sparsecca/tests/data/multicca1.csv\", sep = \",\", header = TRUE)\n",
    "    rownames(data1) <- data1$X\n",
    "    data1 <- data1[, 2:ncol(data1)]\n",
    "\n",
    "    data2 <- read.table(\"/workspaces/sparsecca/tests/data/multicca3.csv\", sep = \",\", header = TRUE)\n",
    "    rownames(data2) <- data2$X\n",
    "    data2 <- data2[, 2:ncol(data2)]\n",
    "\n",
    "    data3 <- read.table(\"/workspaces/sparsecca/tests/data/multicca4.csv\", sep = \",\", header = TRUE)\n",
    "    rownames(data3) <- data3$X\n",
    "    data3 <- data3[, 2:ncol(data3)]\n",
    "\n",
    "    datasets <- list(data1, data2,data3)\n",
    "    datasets_perm <- list(data3, data1,data2)\n",
    "    res_1 <- MultiCCA(\n",
    "        datasets,\n",
    "        type = \"standard\",\n",
    "        penalty = 1.5,\n",
    "        ncomponents = 1,\n",
    "        standardize = TRUE\n",
    "    )\n",
    "    res_2 <- MultiCCA(\n",
    "        datasets_perm,\n",
    "        type = \"standard\",\n",
    "        penalty = 1.5,\n",
    "        ncomponents = 1,\n",
    "        standardize = TRUE\n",
    "    )\n",
    "\n",
    "    res <- list(res_1$ws,res_2$ws)\n",
    "    \"\"\"\n",
    ")\n"
   ]
  },
  {
   "attachments": {},
   "cell_type": "markdown",
   "metadata": {},
   "source": [
    "#### Compare Output for R (MultiCCA)"
   ]
  },
  {
   "cell_type": "code",
   "execution_count": 14,
   "metadata": {},
   "outputs": [
    {
     "name": "stdout",
     "output_type": "stream",
     "text": [
      "\n",
      "R weigth for dataset:\n",
      "[[1]]\n",
      "            [,1]\n",
      "[1,]  0.00000000\n",
      "[2,] -0.22667345\n",
      "[3,] -0.92623899\n",
      "[4,]  0.05012249\n",
      "[5,] -0.29696501\n",
      "\n",
      "[[2]]\n",
      "            [,1]\n",
      "[1,] -0.58207714\n",
      "[2,]  0.00000000\n",
      "[3,] -0.80949488\n",
      "[4,]  0.05781411\n",
      "[5,]  0.05061388\n",
      "\n",
      "[[3]]\n",
      "           [,1]\n",
      "[1,] -0.5545402\n",
      "[2,]  0.0000000\n",
      "[3,] -0.8231140\n",
      "[4,]  0.1223458\n",
      "[5,]  0.0000000\n",
      "\n",
      "\n"
     ]
    }
   ],
   "source": [
    "# output for dataset\n",
    "print(\"\\nR weigth for dataset:\")\n",
    "print(r_pma_ws[0])"
   ]
  },
  {
   "cell_type": "code",
   "execution_count": 15,
   "metadata": {},
   "outputs": [
    {
     "name": "stdout",
     "output_type": "stream",
     "text": [
      "\n",
      "R weigth for dataset_perm:\n",
      "[[1]]\n",
      "            [,1]\n",
      "[1,]  0.00000000\n",
      "[2,] -0.63653415\n",
      "[3,]  0.00000000\n",
      "[4,]  0.09853806\n",
      "[5,]  0.76492779\n",
      "\n",
      "[[2]]\n",
      "           [,1]\n",
      "[1,]  0.0000000\n",
      "[2,] -0.8484172\n",
      "[3,] -0.5100578\n",
      "[4,]  0.1415250\n",
      "[5,]  0.0000000\n",
      "\n",
      "[[3]]\n",
      "            [,1]\n",
      "[1,]  0.01983114\n",
      "[2,] -0.65498980\n",
      "[3,]  0.00000000\n",
      "[4,]  0.07337363\n",
      "[5,]  0.75180543\n",
      "\n",
      "\n"
     ]
    }
   ],
   "source": [
    "# output for dataset with perm 1,2,0\n",
    "print(\"\\nR weigth for dataset_perm:\")\n",
    "print(r_pma_ws[1])\n"
   ]
  },
  {
   "cell_type": "code",
   "execution_count": 16,
   "metadata": {},
   "outputs": [
    {
     "data": {
      "text/plain": [
       "False"
      ]
     },
     "execution_count": 16,
     "metadata": {},
     "output_type": "execute_result"
    }
   ],
   "source": [
    "test_weights(np.asarray(r_pma_ws[0]), np.asarray(r_pma_ws[1]), [1,2,0])"
   ]
  },
  {
   "attachments": {},
   "cell_type": "markdown",
   "metadata": {},
   "source": [
    "# Correlation between pmd results and lp results"
   ]
  },
  {
   "cell_type": "code",
   "execution_count": 22,
   "metadata": {},
   "outputs": [
    {
     "name": "stdout",
     "output_type": "stream",
     "text": [
      "Model unknown\n",
      "\n",
      "  Variables:\n",
      "    w_i_f : Size=10, Index=w_i_f_index\n",
      "        Key    : Lower : Value                 : Upper : Fixed : Stale : Domain\n",
      "        (0, 0) :  None :   0.07040724965597964 :  None : False : False :  Reals\n",
      "        (0, 1) :  None :   -0.6977999020370866 :  None : False : False :  Reals\n",
      "        (0, 2) :  None :    -0.592616752530863 :  None : False : False :  Reals\n",
      "        (0, 3) :  None :   0.39099294023035963 :  None : False : False :  Reals\n",
      "        (0, 4) :  None :   0.06362413837418111 :  None : False : False :  Reals\n",
      "        (1, 0) :  None : 0.0039519639341088035 :  None : False : False :  Reals\n",
      "        (1, 1) :  None :   -0.5278884744303984 :  None : False : False :  Reals\n",
      "        (1, 2) :  None :  -0.30840785777769986 :  None : False : False :  Reals\n",
      "        (1, 3) :  None :   0.15567065669290506 :  None : False : False :  Reals\n",
      "        (1, 4) :  None :    0.7758668637153872 :  None : False : False :  Reals\n",
      "\n",
      "  Objectives:\n",
      "    Obj : Size=1, Index=None, Active=True\n",
      "        Key  : Active : Value\n",
      "        None :   True : 20.982351838623337\n",
      "\n",
      "  Constraints:\n",
      "    constraint_lasso : Size=2\n",
      "        Key : Lower : Body                : Upper\n",
      "          1 :  None : -0.7653923263074291 :   1.5\n",
      "          2 :  None : 0.09919315213430269 :   1.5\n",
      "    constraint_norm2 : Size=2\n",
      "        Key : Lower : Body               : Upper\n",
      "          1 :  None : 1.0000000097611517 :   1.0\n",
      "          2 :  None : 1.0000000097611714 :   1.0\n"
     ]
    }
   ],
   "source": [
    "ws_LA_demo,_ = lp_pmd([datasets[0],datasets[1]], [1.5, 1.5],K=1,standardize=True, mimic_R=True)"
   ]
  },
  {
   "cell_type": "code",
   "execution_count": 24,
   "metadata": {},
   "outputs": [
    {
     "name": "stdout",
     "output_type": "stream",
     "text": [
      "1234"
     ]
    }
   ],
   "source": [
    "utils = rpackages.importr(\"utils\")\n",
    "utils.chooseCRANmirror(ind=1)\n",
    "\n",
    "if not rpackages.isinstalled(\"PMA\"):\n",
    "    utils.install_packages(\"PMA\", verbose=True)\n",
    "\n",
    "r_pma_ws_demo = robjects.r(\n",
    "    \"\"\"\n",
    "    library(\"PMA\")\n",
    "\n",
    "    cls <- c(lat = \"numeric\", lon = \"numeric\")\n",
    "    data1 <- read.table(\"/workspaces/sparsecca/tests/data/multicca1.csv\", sep = \",\", header = TRUE)\n",
    "    rownames(data1) <- data1$X\n",
    "    data1 <- data1[, 2:ncol(data1)]\n",
    "\n",
    "    data2 <- read.table(\"/workspaces/sparsecca/tests/data/multicca3.csv\", sep = \",\", header = TRUE)\n",
    "    rownames(data2) <- data2$X\n",
    "    data2 <- data2[, 2:ncol(data2)]\n",
    "\n",
    "    datasets <- list(data1, data2)\n",
    "    res <- MultiCCA(\n",
    "        datasets,\n",
    "        type = \"standard\",\n",
    "        penalty = 1.5,\n",
    "        ncomponents = 1,\n",
    "        standardize = TRUE\n",
    "    )\n",
    "    \n",
    "\n",
    "    res <- res$ws\n",
    "    \"\"\"\n",
    ")\n"
   ]
  },
  {
   "cell_type": "code",
   "execution_count": 1,
   "metadata": {},
   "outputs": [],
   "source": [
    "from scipy.stats import spearmanr"
   ]
  },
  {
   "attachments": {},
   "cell_type": "markdown",
   "metadata": {},
   "source": [
    "### high correlation between pmd and lp when len(X_n) = 2"
   ]
  },
  {
   "cell_type": "code",
   "execution_count": 28,
   "metadata": {},
   "outputs": [
    {
     "name": "stdout",
     "output_type": "stream",
     "text": [
      "SignificanceResult(statistic=0.9746794344808964, pvalue=0.004818230468198537)\n",
      "SignificanceResult(statistic=0.9999999999999999, pvalue=1.4042654220543672e-24)\n"
     ]
    }
   ],
   "source": [
    "print(spearmanr(ws_LA_demo[0], r_pma_ws_demo[0]))\n",
    "print(spearmanr(ws_LA_demo[1], r_pma_ws_demo[1]))"
   ]
  },
  {
   "attachments": {},
   "cell_type": "markdown",
   "metadata": {},
   "source": [
    "### for 3 matrices not as high correlation, but pmd is inconsistent here, so this is to be expected"
   ]
  },
  {
   "cell_type": "code",
   "execution_count": 27,
   "metadata": {},
   "outputs": [
    {
     "name": "stdout",
     "output_type": "stream",
     "text": [
      "SignificanceResult(statistic=0.9746794344808964, pvalue=0.004818230468198537)\n",
      "SignificanceResult(statistic=0.6, pvalue=0.28475697986529375)\n",
      "SignificanceResult(statistic=0.41039134083406165, pvalue=0.49253578170279755)\n"
     ]
    }
   ],
   "source": [
    "print(spearmanr(ws_LA[0], r_pma_ws[0][0]))\n",
    "print(spearmanr(ws_LA[1], r_pma_ws[0][1]))\n",
    "print(spearmanr(ws_LA[2], r_pma_ws[0][2]))"
   ]
  },
  {
   "attachments": {},
   "cell_type": "markdown",
   "metadata": {},
   "source": [
    "# Sum pmd vs lp: lp exceeds pmd in solution :)"
   ]
  },
  {
   "attachments": {},
   "cell_type": "markdown",
   "metadata": {},
   "source": [
    "### calculated sum with lp"
   ]
  },
  {
   "cell_type": "code",
   "execution_count": 37,
   "metadata": {},
   "outputs": [
    {
     "data": {
      "text/plain": [
       "array([[123.75240036]])"
      ]
     },
     "execution_count": 37,
     "metadata": {},
     "output_type": "execute_result"
    }
   ],
   "source": [
    "np.dot(np.dot(np.dot(np.asarray(ws_LA_demo[0]).T, np.asarray(datasets[0]).T),np.asarray(datasets[1])), np.asarray(ws_LA_demo[1]))"
   ]
  },
  {
   "attachments": {},
   "cell_type": "markdown",
   "metadata": {},
   "source": [
    "### calculated sum with pmd"
   ]
  },
  {
   "cell_type": "code",
   "execution_count": 38,
   "metadata": {},
   "outputs": [
    {
     "data": {
      "text/plain": [
       "array([[103.59034767]])"
      ]
     },
     "execution_count": 38,
     "metadata": {},
     "output_type": "execute_result"
    }
   ],
   "source": [
    "np.dot(np.dot(np.dot(np.asarray(r_pma_ws_demo)[0].T, np.asarray(datasets[0]).T),np.asarray(datasets[1])),np.asarray(r_pma_ws_demo)[1])"
   ]
  }
 ],
 "metadata": {
  "kernelspec": {
   "display_name": "Python 3",
   "language": "python",
   "name": "python3"
  },
  "language_info": {
   "codemirror_mode": {
    "name": "ipython",
    "version": 3
   },
   "file_extension": ".py",
   "mimetype": "text/x-python",
   "name": "python",
   "nbconvert_exporter": "python",
   "pygments_lexer": "ipython3",
   "version": "3.9.0"
  },
  "orig_nbformat": 4,
  "vscode": {
   "interpreter": {
    "hash": "d4d1e4263499bec80672ea0156c357c1ee493ec2b1c70f0acce89fc37c4a6abe"
   }
  }
 },
 "nbformat": 4,
 "nbformat_minor": 2
}
