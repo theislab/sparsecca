{
 "cells": [
  {
   "attachments": {},
   "cell_type": "markdown",
   "metadata": {},
   "source": [
    "# Comparing Permutation lp_pmd & R\n",
    "## Permutation lp_pmd"
   ]
  },
  {
   "cell_type": "code",
   "execution_count": 18,
   "metadata": {},
   "outputs": [],
   "source": [
    "from sparsecca._multicca_lp import lp_pmd\n",
    "import pandas as pd"
   ]
  },
  {
   "cell_type": "code",
   "execution_count": 30,
   "metadata": {},
   "outputs": [],
   "source": [
    "# example input\n",
    "mcca1 = pd.read_csv(\"../data/multicca1.csv\", sep=\",\")\n",
    "mcca2 = pd.read_csv(\"../data/multicca3.csv\", sep=\",\")\n",
    "mcca3 = pd.read_csv(\"../data/multicca4.csv\", sep=\",\")"
   ]
  },
  {
   "cell_type": "code",
   "execution_count": 31,
   "metadata": {},
   "outputs": [],
   "source": [
    "# get values only from datsets\n",
    "datasets_1_2_3 = [mcca1.iloc[:,1:7].values, mcca2.iloc[:,1:7].values, mcca3.iloc[:,1:7].values]\n",
    "datasets_3_1_2 = [mcca3.iloc[:,1:7].values, mcca1.iloc[:,1:7].values, mcca2.iloc[:,1:7].values]"
   ]
  },
  {
   "cell_type": "code",
   "execution_count": 32,
   "metadata": {},
   "outputs": [
    {
     "name": "stdout",
     "output_type": "stream",
     "text": [
      "Model unknown\n",
      "\n",
      "  Variables:\n",
      "    w_i_f : Size=15, Index=w_i_f_index\n",
      "        Key    : Lower : Value               : Upper : Fixed : Stale : Domain\n",
      "        (0, 0) :  None :  0.1290201324317523 :  None : False : False :  Reals\n",
      "        (0, 1) :  None : -0.7267034167497635 :  None : False : False :  Reals\n",
      "        (0, 2) :  None : -0.5514961376549197 :  None : False : False :  Reals\n",
      "        (0, 3) :  None :  0.3521081788300305 :  None : False : False :  Reals\n",
      "        (0, 4) :  None : 0.16470519095417988 :  None : False : False :  Reals\n",
      "        (1, 0) :  None : 0.22484145596723393 :  None : False : False :  Reals\n",
      "        (1, 1) :  None : -0.6475990962207131 :  None : False : False :  Reals\n",
      "        (1, 2) :  None : 0.02884563210023504 :  None : False : False :  Reals\n",
      "        (1, 3) :  None :  0.2656479398776398 :  None : False : False :  Reals\n",
      "        (1, 4) :  None :  0.6772450381640168 :  None : False : False :  Reals\n",
      "        (2, 0) :  None : 0.13210353603984293 :  None : False : False :  Reals\n",
      "        (2, 1) :  None : -0.6514858105703142 :  None : False : False :  Reals\n",
      "        (2, 2) :  None : 0.06037328787670366 :  None : False : False :  Reals\n",
      "        (2, 3) :  None : 0.28548345873560615 :  None : False : False :  Reals\n",
      "        (2, 4) :  None :  0.6877275370422725 :  None : False : False :  Reals\n",
      "\n",
      "  Objectives:\n",
      "    Obj : Size=1, Index=None, Active=True\n",
      "        Key  : Active : Value\n",
      "        None :   True : 78.40033470807778\n",
      "\n",
      "  Constraints:\n",
      "    constraint_lasso : Size=3\n",
      "        Key : Lower : Body                : Upper\n",
      "          1 :  None : -0.6323660521887204 :   1.5\n",
      "          2 :  None :  0.5489809698884125 :   1.5\n",
      "          3 :  None :  0.5142020091241111 :   1.5\n",
      "    constraint_norm2 : Size=3\n",
      "        Key : Lower : Body               : Upper\n",
      "          1 :  None :  1.000000009863035 :   1.0\n",
      "          2 :  None : 1.0000000099176267 :   1.0\n",
      "          3 :  None : 1.0000000099156074 :   1.0\n",
      "Model unknown\n",
      "\n",
      "  Variables:\n",
      "    w_i_f : Size=15, Index=w_i_f_index\n",
      "        Key    : Lower : Value               : Upper : Fixed : Stale : Domain\n",
      "        (0, 0) :  None : 0.13210353603984282 :  None : False : False :  Reals\n",
      "        (0, 1) :  None : -0.6514858105703142 :  None : False : False :  Reals\n",
      "        (0, 2) :  None : 0.06037328787670362 :  None : False : False :  Reals\n",
      "        (0, 3) :  None :  0.2854834587356062 :  None : False : False :  Reals\n",
      "        (0, 4) :  None :  0.6877275370422724 :  None : False : False :  Reals\n",
      "        (1, 0) :  None : 0.12902013243175234 :  None : False : False :  Reals\n",
      "        (1, 1) :  None : -0.7267034167497635 :  None : False : False :  Reals\n",
      "        (1, 2) :  None : -0.5514961376549197 :  None : False : False :  Reals\n",
      "        (1, 3) :  None :  0.3521081788300304 :  None : False : False :  Reals\n",
      "        (1, 4) :  None : 0.16470519095417982 :  None : False : False :  Reals\n",
      "        (2, 0) :  None : 0.22484145596723384 :  None : False : False :  Reals\n",
      "        (2, 1) :  None : -0.6475990962207132 :  None : False : False :  Reals\n",
      "        (2, 2) :  None : 0.02884563210023499 :  None : False : False :  Reals\n",
      "        (2, 3) :  None : 0.26564793987763985 :  None : False : False :  Reals\n",
      "        (2, 4) :  None :  0.6772450381640168 :  None : False : False :  Reals\n",
      "\n",
      "  Objectives:\n",
      "    Obj : Size=1, Index=None, Active=True\n",
      "        Key  : Active : Value\n",
      "        None :   True : 78.40033470807778\n",
      "\n",
      "  Constraints:\n",
      "    constraint_lasso : Size=3\n",
      "        Key : Lower : Body                : Upper\n",
      "          1 :  None :  0.5142020091241108 :   1.5\n",
      "          2 :  None : -0.6323660521887206 :   1.5\n",
      "          3 :  None :  0.5489809698884123 :   1.5\n",
      "    constraint_norm2 : Size=3\n",
      "        Key : Lower : Body               : Upper\n",
      "          1 :  None : 1.0000000099156074 :   1.0\n",
      "          2 :  None :  1.000000009863035 :   1.0\n",
      "          3 :  None :  1.000000009917627 :   1.0\n"
     ]
    }
   ],
   "source": [
    "# first dataset with order 1,2,3\n",
    "ws_LA_1_2_3,_ = lp_pmd(datasets_1_2_3, [1.5, 1.5,1.5],K=1,standardize=True, mimic_R=True)\n",
    "# second dataset with order 3,1,2\n",
    "ws_LA_3_1_2,_ = lp_pmd(datasets_3_1_2, [1.5, 1.5,1.5],K=1,standardize=True, mimic_R=True)"
   ]
  },
  {
   "attachments": {},
   "cell_type": "markdown",
   "metadata": {},
   "source": [
    "#### Compare Output for lp_pmd"
   ]
  },
  {
   "cell_type": "code",
   "execution_count": 33,
   "metadata": {},
   "outputs": [
    {
     "data": {
      "text/plain": [
       "array([[[ 0.12902013],\n",
       "        [-0.72670342],\n",
       "        [-0.55149614],\n",
       "        [ 0.35210818],\n",
       "        [ 0.16470519]],\n",
       "\n",
       "       [[ 0.22484146],\n",
       "        [-0.6475991 ],\n",
       "        [ 0.02884563],\n",
       "        [ 0.26564794],\n",
       "        [ 0.67724504]],\n",
       "\n",
       "       [[ 0.13210354],\n",
       "        [-0.65148581],\n",
       "        [ 0.06037329],\n",
       "        [ 0.28548346],\n",
       "        [ 0.68772754]]])"
      ]
     },
     "execution_count": 33,
     "metadata": {},
     "output_type": "execute_result"
    }
   ],
   "source": [
    "# output for dataset with order 1,2,3\n",
    "ws_LA_1_2_3\n"
   ]
  },
  {
   "cell_type": "code",
   "execution_count": 34,
   "metadata": {},
   "outputs": [
    {
     "data": {
      "text/plain": [
       "array([[[ 0.13210354],\n",
       "        [-0.65148581],\n",
       "        [ 0.06037329],\n",
       "        [ 0.28548346],\n",
       "        [ 0.68772754]],\n",
       "\n",
       "       [[ 0.12902013],\n",
       "        [-0.72670342],\n",
       "        [-0.55149614],\n",
       "        [ 0.35210818],\n",
       "        [ 0.16470519]],\n",
       "\n",
       "       [[ 0.22484146],\n",
       "        [-0.6475991 ],\n",
       "        [ 0.02884563],\n",
       "        [ 0.26564794],\n",
       "        [ 0.67724504]]])"
      ]
     },
     "execution_count": 34,
     "metadata": {},
     "output_type": "execute_result"
    }
   ],
   "source": [
    "# output for dataset with order 3,1,2\n",
    "ws_LA_3_1_2"
   ]
  },
  {
   "cell_type": "code",
   "execution_count": null,
   "metadata": {},
   "outputs": [],
   "source": [
    "#TODO call compare function"
   ]
  },
  {
   "attachments": {},
   "cell_type": "markdown",
   "metadata": {},
   "source": [
    "## Permutation of R-function "
   ]
  },
  {
   "cell_type": "code",
   "execution_count": 35,
   "metadata": {},
   "outputs": [],
   "source": [
    "from rpy2 import robjects\n",
    "import rpy2.robjects.packages as rpackages"
   ]
  },
  {
   "cell_type": "code",
   "execution_count": 49,
   "metadata": {},
   "outputs": [
    {
     "name": "stdout",
     "output_type": "stream",
     "text": [
      "12345671234"
     ]
    }
   ],
   "source": [
    "utils = rpackages.importr(\"utils\")\n",
    "utils.chooseCRANmirror(ind=1)\n",
    "\n",
    "if not rpackages.isinstalled(\"PMA\"):\n",
    "    utils.install_packages(\"PMA\", verbose=True)\n",
    "\n",
    "r_pma_ws = robjects.r(\n",
    "    \"\"\"\n",
    "    library(\"PMA\")\n",
    "\n",
    "    cls <- c(lat = \"numeric\", lon = \"numeric\")\n",
    "    data1 <- read.table(\"/workspaces/sparsecca/tests/data/multicca1.csv\", sep = \",\", header = TRUE)\n",
    "    rownames(data1) <- data1$X\n",
    "    data1 <- data1[, 2:ncol(data1)]\n",
    "\n",
    "    data2 <- read.table(\"/workspaces/sparsecca/tests/data/multicca3.csv\", sep = \",\", header = TRUE)\n",
    "    rownames(data2) <- data2$X\n",
    "    data2 <- data2[, 2:ncol(data2)]\n",
    "\n",
    "    data3 <- read.table(\"/workspaces/sparsecca/tests/data/multicca4.csv\", sep = \",\", header = TRUE)\n",
    "    rownames(data3) <- data3$X\n",
    "    data3 <- data3[, 2:ncol(data3)]\n",
    "\n",
    "    datasets_1_2_3 <- list(data1, data2,data3)\n",
    "    datasets_3_1_2 <- list(data3, data1,data2)\n",
    "    res_1 <- MultiCCA(\n",
    "        datasets_1_2_3,\n",
    "        type = \"standard\",\n",
    "        penalty = 1.5,\n",
    "        ncomponents = 1,\n",
    "        standardize = TRUE\n",
    "    )\n",
    "    res_2 <- MultiCCA(\n",
    "        datasets_3_1_2,\n",
    "        type = \"standard\",\n",
    "        penalty = 1.5,\n",
    "        ncomponents = 1,\n",
    "        standardize = TRUE\n",
    "    )\n",
    "\n",
    "    res <- list(res_1$ws,res_2$ws)\n",
    "    \"\"\"\n",
    ")\n"
   ]
  },
  {
   "attachments": {},
   "cell_type": "markdown",
   "metadata": {},
   "source": [
    "#### Compare Output for R (MultiCCA)"
   ]
  },
  {
   "cell_type": "code",
   "execution_count": 53,
   "metadata": {},
   "outputs": [
    {
     "name": "stdout",
     "output_type": "stream",
     "text": [
      "\n",
      "R weigth for dataset_1_2_3:\n",
      "[[1]]\n",
      "            [,1]\n",
      "[1,]  0.00000000\n",
      "[2,] -0.22667345\n",
      "[3,] -0.92623899\n",
      "[4,]  0.05012249\n",
      "[5,] -0.29696501\n",
      "\n",
      "[[2]]\n",
      "            [,1]\n",
      "[1,] -0.58207714\n",
      "[2,]  0.00000000\n",
      "[3,] -0.80949488\n",
      "[4,]  0.05781411\n",
      "[5,]  0.05061388\n",
      "\n",
      "[[3]]\n",
      "           [,1]\n",
      "[1,] -0.5545402\n",
      "[2,]  0.0000000\n",
      "[3,] -0.8231140\n",
      "[4,]  0.1223458\n",
      "[5,]  0.0000000\n",
      "\n",
      "\n"
     ]
    }
   ],
   "source": [
    "# output for dataset with order 1,2,3\n",
    "print(\"\\nR weigth for dataset_1_2_3:\")\n",
    "print(r_pma_ws[0])"
   ]
  },
  {
   "cell_type": "code",
   "execution_count": 51,
   "metadata": {},
   "outputs": [
    {
     "name": "stdout",
     "output_type": "stream",
     "text": [
      "\n",
      "R weigth for dataset_3_2_1:\n",
      "[[1]]\n",
      "            [,1]\n",
      "[1,]  0.00000000\n",
      "[2,] -0.63653415\n",
      "[3,]  0.00000000\n",
      "[4,]  0.09853806\n",
      "[5,]  0.76492779\n",
      "\n",
      "[[2]]\n",
      "           [,1]\n",
      "[1,]  0.0000000\n",
      "[2,] -0.8484172\n",
      "[3,] -0.5100578\n",
      "[4,]  0.1415250\n",
      "[5,]  0.0000000\n",
      "\n",
      "[[3]]\n",
      "            [,1]\n",
      "[1,]  0.01983114\n",
      "[2,] -0.65498980\n",
      "[3,]  0.00000000\n",
      "[4,]  0.07337363\n",
      "[5,]  0.75180543\n",
      "\n",
      "\n"
     ]
    }
   ],
   "source": [
    "# output for dataset with order 3,2,1\n",
    "print(\"\\nR weigth for dataset_3_2_1:\")\n",
    "print(r_pma_ws[1])\n"
   ]
  },
  {
   "cell_type": "code",
   "execution_count": 54,
   "metadata": {},
   "outputs": [],
   "source": [
    "# TODO : add test "
   ]
  }
 ],
 "metadata": {
  "kernelspec": {
   "display_name": "Python 3",
   "language": "python",
   "name": "python3"
  },
  "language_info": {
   "codemirror_mode": {
    "name": "ipython",
    "version": 3
   },
   "file_extension": ".py",
   "mimetype": "text/x-python",
   "name": "python",
   "nbconvert_exporter": "python",
   "pygments_lexer": "ipython3",
   "version": "3.9.0"
  },
  "orig_nbformat": 4,
  "vscode": {
   "interpreter": {
    "hash": "d4d1e4263499bec80672ea0156c357c1ee493ec2b1c70f0acce89fc37c4a6abe"
   }
  }
 },
 "nbformat": 4,
 "nbformat_minor": 2
}
